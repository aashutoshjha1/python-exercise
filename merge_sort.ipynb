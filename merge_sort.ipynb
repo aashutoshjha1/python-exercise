{
  "nbformat": 4,
  "nbformat_minor": 0,
  "metadata": {
    "colab": {
      "provenance": [],
      "authorship_tag": "ABX9TyNqk4QZjEHqfWddBNrU3ID6",
      "include_colab_link": true
    },
    "kernelspec": {
      "name": "python3",
      "display_name": "Python 3"
    },
    "language_info": {
      "name": "python"
    }
  },
  "cells": [
    {
      "cell_type": "markdown",
      "metadata": {
        "id": "view-in-github",
        "colab_type": "text"
      },
      "source": [
        "<a href=\"https://colab.research.google.com/github/aashutoshjha1/python-exercise/blob/main/merge_sort.ipynb\" target=\"_parent\"><img src=\"https://colab.research.google.com/assets/colab-badge.svg\" alt=\"Open In Colab\"/></a>"
      ]
    },
    {
      "cell_type": "code",
      "execution_count": null,
      "metadata": {
        "id": "ALABOtF90Ne4"
      },
      "outputs": [],
      "source": []
    },
    {
      "cell_type": "markdown",
      "source": [
        "testing this"
      ],
      "metadata": {
        "id": "z30TJTgg0RJm"
      }
    },
    {
      "cell_type": "code",
      "source": [
        "#!/usr/bin/env python3\n",
        "\n",
        "def merge_sorted(arr1, arr2, arr):\n",
        "     i = j = k = 0\n",
        "     while i < len(arr1) and j < len(arr2):\n",
        "         if arr1[i] < arr2[j]:\n",
        "               arr[k] = arr1[i]\n",
        "               i +=1\n",
        "         else:\n",
        "             arr[k] = arr2[j]\n",
        "             j +=1\n",
        "         k +=1\n",
        "\n",
        "     while i < len(arr1):\n",
        "           arr[k] = arr1[i]\n",
        "           i +=1\n",
        "           k +=1\n",
        "     while j < len(arr2):\n",
        "         arr[k] = arr2[j]\n",
        "         j +=1\n",
        "         k +=1\n",
        "\n",
        "\n",
        "def merge_sort(arr):\n",
        "\n",
        "    if len(arr) == 1:\n",
        "         return arr\n",
        "    mid = len(arr)//2\n",
        "    arr1 = arr[:mid]\n",
        "    arr2 = arr[mid:]\n",
        "    merge_sort(arr1)\n",
        "    merge_sort(arr2)\n",
        "    merge_sorted(arr1, arr2, arr)\n",
        "    return arr\n",
        "seq1 = [8,12 ,20,9,24,10,35,30,11]\n",
        "print(merge_sort(seq1))\n"
      ],
      "metadata": {
        "colab": {
          "base_uri": "https://localhost:8080/"
        },
        "id": "FqEiiBWI0ThD",
        "outputId": "ab6ec102-37fc-49be-fb7d-dca1bc3ff4b4"
      },
      "execution_count": 1,
      "outputs": [
        {
          "output_type": "stream",
          "name": "stdout",
          "text": [
            "[8, 9, 10, 11, 12, 20, 24, 30, 35]\n"
          ]
        }
      ]
    }
  ]
}