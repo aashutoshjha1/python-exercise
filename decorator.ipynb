{
  "nbformat": 4,
  "nbformat_minor": 0,
  "metadata": {
    "colab": {
      "provenance": [],
      "authorship_tag": "ABX9TyMUS9ddQDqiMpUe+gt+EnzC",
      "include_colab_link": true
    },
    "kernelspec": {
      "name": "python3",
      "display_name": "Python 3"
    },
    "language_info": {
      "name": "python"
    }
  },
  "cells": [
    {
      "cell_type": "markdown",
      "metadata": {
        "id": "view-in-github",
        "colab_type": "text"
      },
      "source": [
        "<a href=\"https://colab.research.google.com/github/aashutoshjha1/python-exercise/blob/main/decorator.ipynb\" target=\"_parent\"><img src=\"https://colab.research.google.com/assets/colab-badge.svg\" alt=\"Open In Colab\"/></a>"
      ]
    },
    {
      "cell_type": "code",
      "execution_count": null,
      "metadata": {
        "id": "7KjEORuQeegT"
      },
      "outputs": [],
      "source": []
    },
    {
      "cell_type": "markdown",
      "source": [
        "First Decorator program :\n"
      ],
      "metadata": {
        "id": "IQlst37VejuZ"
      }
    },
    {
      "cell_type": "code",
      "source": [
        "def modify(func, num):\n",
        "    return func(num)\n",
        "def square(num):\n",
        "    return num ** 2\n",
        "\n",
        "modify(square, 4)\n"
      ],
      "metadata": {
        "colab": {
          "base_uri": "https://localhost:8080/"
        },
        "id": "9EX9Cvjwg-h3",
        "outputId": "b38d4a06-ab92-4fdf-c8c9-4978aedc1f89"
      },
      "execution_count": 2,
      "outputs": [
        {
          "output_type": "execute_result",
          "data": {
            "text/plain": [
              "16"
            ]
          },
          "metadata": {},
          "execution_count": 2
        }
      ]
    },
    {
      "cell_type": "markdown",
      "source": [
        "Example of decorator\n"
      ],
      "metadata": {
        "id": "JM_iaDNXidew"
      }
    },
    {
      "cell_type": "code",
      "source": [
        "def mydecorator(func):\n",
        "  def wrapper():\n",
        "    print('***********' )\n",
        "    func()\n",
        "    print('**********')\n",
        "  return wrapper\n",
        "\n",
        "\n",
        "def hello():\n",
        "   print(\"hello name\")\n",
        "\n",
        "\n",
        "a = mydecorator(hello)\n",
        "a()\n"
      ],
      "metadata": {
        "colab": {
          "base_uri": "https://localhost:8080/"
        },
        "id": "mG8JVSZIihtY",
        "outputId": "fca2480d-fd2d-460f-83b5-8247d22e0e5a"
      },
      "execution_count": 13,
      "outputs": [
        {
          "output_type": "stream",
          "name": "stdout",
          "text": [
            "***********\n",
            "hello name\n",
            "**********\n"
          ]
        }
      ]
    },
    {
      "cell_type": "markdown",
      "source": [
        "closure"
      ],
      "metadata": {
        "id": "mM8R6kRcnQ4M"
      }
    },
    {
      "cell_type": "markdown",
      "source": [],
      "metadata": {
        "id": "WSGN8YrDo-h4"
      }
    },
    {
      "cell_type": "code",
      "source": [
        "def outer_func():\n",
        "  a = 10\n",
        "  def inner():\n",
        "      print(a)\n",
        "  inner()\n",
        "\n",
        "\n",
        "c = outer_func()\n",
        "print(c)\n"
      ],
      "metadata": {
        "colab": {
          "base_uri": "https://localhost:8080/"
        },
        "id": "Q76JQoALnShD",
        "outputId": "ecbbb512-da25-4281-adc7-beb844195afe"
      },
      "execution_count": 16,
      "outputs": [
        {
          "output_type": "stream",
          "name": "stdout",
          "text": [
            "10\n",
            "None\n"
          ]
        }
      ]
    },
    {
      "cell_type": "markdown",
      "source": [
        "Decorator example 1:\n"
      ],
      "metadata": {
        "id": "drUIfm_5pB3M"
      }
    },
    {
      "cell_type": "code",
      "source": [
        "def mydecorator(func):\n",
        "  def wrapper():\n",
        "    print('***********' )\n",
        "    func()\n",
        "    print('**********')\n",
        "  return wrapper\n",
        "\n",
        "@mydecorator\n",
        "def hello():\n",
        "   print(\"hello name\")\n",
        "\n",
        "\n",
        "hello()\n",
        "\n",
        "\n",
        "\n",
        "\n"
      ],
      "metadata": {
        "colab": {
          "base_uri": "https://localhost:8080/"
        },
        "id": "T1q5kARfpEqp",
        "outputId": "30922e11-b029-41d2-ae2e-2fbbcc3e3d40"
      },
      "execution_count": 17,
      "outputs": [
        {
          "output_type": "stream",
          "name": "stdout",
          "text": [
            "***********\n",
            "hello name\n",
            "**********\n"
          ]
        }
      ]
    },
    {
      "cell_type": "markdown",
      "source": [
        "Function execution time using decorator\n"
      ],
      "metadata": {
        "id": "pf54ozFXqOEo"
      }
    },
    {
      "cell_type": "code",
      "source": [
        "import time\n",
        "\n",
        "def my_decorator(func):\n",
        "    def wrapper(a, b):\n",
        "       # Time in milliseconds\n",
        "       a =  int(time.time() * 1000)\n",
        "       func(a, b)\n",
        "       b = int(time.time() * 1000)\n",
        "       print((b-a)/1000)\n",
        "\n",
        "    return wrapper\n",
        "\n",
        "@my_decorator\n",
        "def myfunc(a, b):\n",
        "    print( a**b)\n",
        "\n",
        "myfunc(2, 4)\n",
        "\n",
        "\n"
      ],
      "metadata": {
        "colab": {
          "base_uri": "https://localhost:8080/"
        },
        "id": "ZFjcMggwqRI0",
        "outputId": "3215721d-0f12-48ba-c981-5e079f72a3da"
      },
      "execution_count": 27,
      "outputs": [
        {
          "output_type": "stream",
          "name": "stdout",
          "text": [
            "9441484587880458507168212766281277643377447065121\n",
            "0.0\n"
          ]
        }
      ]
    },
    {
      "cell_type": "markdown",
      "source": [
        "new-decorator with generic ( which can handle multiple args)"
      ],
      "metadata": {
        "id": "2QtpcDfguzDe"
      }
    },
    {
      "cell_type": "code",
      "source": [
        "import time\n",
        "\n",
        "def my_decorator(func):\n",
        "    def wrapper(*args, **kwargs):\n",
        "       # Time in milliseconds\n",
        "       a =  int(time.time() * 1000)\n",
        "       func(*args, **kwargs)\n",
        "       b = int(time.time() * 1000)\n",
        "       print((b-a)/1000)\n",
        "\n",
        "    return wrapper\n",
        "\n",
        "@my_decorator\n",
        "def myfunc(a, b):\n",
        "    print( a**b)\n",
        "\n",
        "myfunc(2, 4)"
      ],
      "metadata": {
        "colab": {
          "base_uri": "https://localhost:8080/"
        },
        "id": "5jglyzflu6rj",
        "outputId": "0c52bbd8-8535-402b-f620-3f0c40fbe458"
      },
      "execution_count": 28,
      "outputs": [
        {
          "output_type": "stream",
          "name": "stdout",
          "text": [
            "16\n",
            "0.0\n"
          ]
        }
      ]
    },
    {
      "cell_type": "markdown",
      "source": [
        "check data type using decorator"
      ],
      "metadata": {
        "id": "Y5BekAB1vMWT"
      }
    },
    {
      "cell_type": "code",
      "source": [
        "def mydecorator(func):\n",
        "  def wrapper(*args, **kwargs):\n",
        "    for i in args:\n",
        "      if isinstance(i, int):\n",
        "        func(*args, **kwargs)\n",
        "      else:\n",
        "        print(\"arugument for function is not int\")\n",
        "\n",
        "  return wrapper\n",
        "\n",
        "@mydecorator\n",
        "def square(num):\n",
        "  print(num * num)\n",
        "\n",
        "num = 4\n",
        "square(num)\n",
        "\n",
        "\n",
        "num = \"hi\"\n",
        "square(num)\n",
        "\n",
        "\n",
        "\n"
      ],
      "metadata": {
        "colab": {
          "base_uri": "https://localhost:8080/"
        },
        "id": "5-OJQIC2vPC8",
        "outputId": "756e976b-8c9a-4c79-db30-50b9619e351f"
      },
      "execution_count": 36,
      "outputs": [
        {
          "output_type": "stream",
          "name": "stdout",
          "text": [
            "16\n",
            "arugument for function is not int\n"
          ]
        }
      ]
    }
  ]
}